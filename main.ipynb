{
  "nbformat": 4,
  "nbformat_minor": 0,
  "metadata": {
    "colab": {
      "name": "main.ipynb",
      "provenance": [],
      "collapsed_sections": [],
      "authorship_tag": "ABX9TyMuLGi58aYmk3E7hYI134kB",
      "include_colab_link": true
    },
    "kernelspec": {
      "name": "python3",
      "display_name": "Python 3"
    }
  },
  "cells": [
    {
      "cell_type": "markdown",
      "metadata": {
        "id": "view-in-github",
        "colab_type": "text"
      },
      "source": [
        "<a href=\"https://colab.research.google.com/github/Urahaa/furb-2020-02-trab-IA/blob/master/main.ipynb\" target=\"_parent\"><img src=\"https://colab.research.google.com/assets/colab-badge.svg\" alt=\"Open In Colab\"/></a>"
      ]
    },
    {
      "cell_type": "code",
      "metadata": {
        "id": "luNq9htkoKj6",
        "colab_type": "code",
        "colab": {
          "base_uri": "https://localhost:8080/",
          "height": 282
        },
        "outputId": "5fc01c07-5b06-4a7c-867b-6195055ab810"
      },
      "source": [
        "# Função que exibe o ambiente na tela\n",
        "\n",
        "#Funciona apenas em ambientes onde a biblioteca matplotlib esteja instalada.\n",
        "\n",
        "import matplotlib.pyplot as plt\n",
        "\n",
        "# Neste caso o robo começa na posição [1][1]\n",
        "PosX = 1\n",
        "PosY = 1\n",
        "\n",
        "def exibir(matriz):\n",
        "  plt.imshow(matriz, 'gray')\n",
        "  plt.show(block=False)\n",
        "plt.plot(6, 6, '*r')\n",
        "plt.plot(0, 0, '*r')\n",
        "\n",
        "# Pausa a execução do código por 0,5 segundos, para facilitar a visualização\n",
        "plt.pause(0.5)\n",
        "plt.clf()"
      ],
      "execution_count": 44,
      "outputs": [
        {
          "output_type": "display_data",
          "data": {
            "image/png": "[encoded data removed]",
            "text/plain": [
              "<Figure size 432x288 with 1 Axes>"
            ]
          },
          "metadata": {
            "tags": [],
            "needs_background": "light"
          }
        },
        {
          "output_type": "display_data",
          "data": {
            "text/plain": [
              "<Figure size 432x288 with 0 Axes>"
            ]
          },
          "metadata": {
            "tags": []
          }
        }
      ]
    },
    {
      "cell_type": "code",
      "metadata": {
        "id": "C9Fn4P_Xto58",
        "colab_type": "code",
        "colab": {
          "base_uri": "https://localhost:8080/",
          "height": 34
        },
        "outputId": "06a470ef-075e-45bd-b8cd-431e27115809"
      },
      "source": [
        "# ('acima', 'abaixo', 'esquerda', 'direita', 'aspirar')\n",
        "import numpy as np\n",
        "\n",
        "def funcaoMapear():\n",
        "  mapa = [[1,1,1,1,1,1],[1,0,0,0,0,1],[1,0,0,0,0,1],[1,0,0,0,0,1],[1,0,0,0,0,1],[1,1,1,1,1,1]]\n",
        "\n",
        "  for i in range(6):\n",
        "    for j in range(6):\n",
        "      if mapa[i][j] != 1:\n",
        "        mapa[i][j] = 0 if np.random.randint(0,2) == 0 else 2\n",
        "\n",
        "  return mapa\n",
        "\n",
        "print(funcaoMapear())"
      ],
      "execution_count": 66,
      "outputs": [
        {
          "output_type": "stream",
          "text": [
            "[[1, 1, 1, 1, 1, 1], [1, 0, 0, 0, 0, 1], [1, 2, 2, 0, 0, 1], [1, 2, 2, 0, 0, 1], [1, 2, 2, 2, 0, 1], [1, 1, 1, 1, 1, 1]]\n"
          ],
          "name": "stdout"
        }
      ]
    }
  ]
}