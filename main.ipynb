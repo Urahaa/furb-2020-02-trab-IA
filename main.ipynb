{
  "nbformat": 4,
  "nbformat_minor": 0,
  "metadata": {
    "colab": {
      "name": "main.ipynb",
      "provenance": [],
      "authorship_tag": "ABX9TyMkVH2ZMdV3G9ryynT6gT12",
      "include_colab_link": true
    },
    "kernelspec": {
      "name": "python3",
      "display_name": "Python 3"
    }
  },
  "cells": [
    {
      "cell_type": "markdown",
      "metadata": {
        "id": "view-in-github",
        "colab_type": "text"
      },
      "source": [
        "<a href=\"https://colab.research.google.com/github/Urahaa/furb-2020-02-trab-IA/blob/master/main.ipynb\" target=\"_parent\"><img src=\"https://colab.research.google.com/assets/colab-badge.svg\" alt=\"Open In Colab\"/></a>"
      ]
    },
    {
      "cell_type": "code",
      "metadata": {
        "id": "luNq9htkoKj6",
        "colab_type": "code",
        "colab": {}
      },
      "source": [
        "# Função que exibe o ambiente na tela\n",
        "\n",
        "#Funciona apenas em ambientes onde a biblioteca matplotlib esteja instalada.\n",
        "\n",
        "import matplotlib.pyplot as plt\n",
        "\n",
        "# Neste caso o robo começa na posição [1][1]\n",
        "PosX = 1\n",
        "PosY = 1\n",
        "\n",
        "def exibir(matriz):\n",
        "plt.imshow(matriz, 'gray')\n",
        "plt.show(block=False)\n",
        "plt.plot(PosY, PosX, '*r', 'LineWidth', 5)\n",
        "\n",
        "# Pausa a execução do código por 0,5 segundos, para facilitar a visualização\n",
        "plt.pause(0.5)\n",
        "plt.clf()"
      ],
      "execution_count": null,
      "outputs": []
    }
  ]
}